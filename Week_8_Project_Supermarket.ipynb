{
 "cells": [
  {
   "cell_type": "markdown",
   "id": "18e229f7",
   "metadata": {},
   "source": [
    "## Project: Markov Simulation\n",
    "\n",
    "In this project, I will write a program that simulates customer behaviour in a supermarket."
   ]
  },
  {
   "cell_type": "markdown",
   "id": "88edbe3e",
   "metadata": {},
   "source": [
    "#### Load dataset\n"
   ]
  },
  {
   "cell_type": "code",
   "execution_count": 132,
   "id": "9cb96364",
   "metadata": {},
   "outputs": [],
   "source": [
    "import os\n",
    "import glob\n",
    "\n",
    "import pandas as pd\n",
    "import numpy as np\n",
    "import seaborn as sns\n",
    "import matplotlib.pyplot as plt\n",
    "\n",
    "from random import random, randint, choices, seed\n",
    "from faker import Faker\n",
    "from datetime import datetime\n",
    "import itertools\n",
    "\n",
    "import warnings\n",
    "\n",
    "warnings.filterwarnings(\"ignore\")\n",
    "\n",
    "%matplotlib inline"
   ]
  },
  {
   "cell_type": "markdown",
   "id": "46d3a7c7",
   "metadata": {},
   "source": [
    "#### Reading CSVs into one dataframe"
   ]
  },
  {
   "cell_type": "code",
   "execution_count": 2,
   "id": "5b949ace",
   "metadata": {},
   "outputs": [
    {
     "name": "stdout",
     "output_type": "stream",
     "text": [
      "File : ['./../week8/data/tuesday.csv', './../week8/data/monday.csv', './../week8/data/thursday.csv', './../week8/data/wednesday.csv', './../week8/data/friday.csv']\n"
     ]
    }
   ],
   "source": [
    "#getting csv from data folder\n",
    "path = \"./../week8/data\"                      \n",
    "\n",
    "#read all files with csv extension\n",
    "filenames = glob.glob(path + \"/*.csv\") \n",
    "#check if all files are read\n",
    "print('File :', filenames)"
   ]
  },
  {
   "cell_type": "code",
   "execution_count": 3,
   "id": "519d9bc5",
   "metadata": {},
   "outputs": [
    {
     "name": "stdout",
     "output_type": "stream",
     "text": [
      "                     customer_no  location\n",
      "timestamp                                 \n",
      "2019-09-03 07:02:00            1     fruit\n",
      "2019-09-03 07:02:00            2    drinks\n",
      "2019-09-03 07:03:00            3     dairy\n",
      "2019-09-03 07:05:00            1    drinks\n",
      "2019-09-03 07:06:00            4     dairy\n",
      "...                          ...       ...\n",
      "2019-09-06 21:50:00         1500     dairy\n",
      "2019-09-06 21:50:00         1507  checkout\n",
      "2019-09-06 21:50:00         1508  checkout\n",
      "2019-09-06 21:50:00         1509    drinks\n",
      "2019-09-06 21:50:00         1510    spices\n",
      "\n",
      "[24877 rows x 2 columns]\n"
     ]
    }
   ],
   "source": [
    "#create empty list\n",
    "df_list = []\n",
    "\n",
    "for file in filenames:\n",
    "    #reading and appending csv files to empty list\n",
    "    df_list.append(pd.read_csv(file, delimiter=';', parse_dates=True, index_col='timestamp'))\n",
    "\n",
    "#put together as one dataframe\n",
    "df = pd.concat(df_list)                       \n",
    "\n",
    "print(df)"
   ]
  },
  {
   "cell_type": "markdown",
   "id": "503a396b",
   "metadata": {},
   "source": [
    "#### Creating distinct customerID (to distinguish customer_no on different days)"
   ]
  },
  {
   "cell_type": "code",
   "execution_count": 4,
   "id": "666c966b",
   "metadata": {},
   "outputs": [],
   "source": [
    "name_of_day = df.index.day_name()\n",
    "df['customerID'] = name_of_day + '_'+ df['customer_no'].astype(str)"
   ]
  },
  {
   "cell_type": "markdown",
   "id": "53e37983",
   "metadata": {},
   "source": [
    "#### Create columns for day and time for the purpose of EDA"
   ]
  },
  {
   "cell_type": "code",
   "execution_count": 5,
   "id": "93e7922d",
   "metadata": {},
   "outputs": [],
   "source": [
    "df['day'] = df.index.day_name()\n",
    "df['time'] = df.index.time"
   ]
  },
  {
   "cell_type": "code",
   "execution_count": 6,
   "id": "fdbe3607",
   "metadata": {},
   "outputs": [],
   "source": [
    "#sort the index for hygiene and peace that is needed for transition probability\n",
    "df.sort_index(inplace=True)"
   ]
  },
  {
   "cell_type": "markdown",
   "id": "83d53b21",
   "metadata": {},
   "source": [
    "#### Deal with shoppers that did not complete checkout\n",
    "\n",
    "Count how many people did not complete checkout. If number is too insignificant, drop them."
   ]
  },
  {
   "cell_type": "code",
   "execution_count": 7,
   "id": "6b7db98e",
   "metadata": {},
   "outputs": [
    {
     "data": {
      "text/html": [
       "<div>\n",
       "<style scoped>\n",
       "    .dataframe tbody tr th:only-of-type {\n",
       "        vertical-align: middle;\n",
       "    }\n",
       "\n",
       "    .dataframe tbody tr th {\n",
       "        vertical-align: top;\n",
       "    }\n",
       "\n",
       "    .dataframe thead th {\n",
       "        text-align: right;\n",
       "    }\n",
       "</style>\n",
       "<table border=\"1\" class=\"dataframe\">\n",
       "  <thead>\n",
       "    <tr style=\"text-align: right;\">\n",
       "      <th></th>\n",
       "      <th>location</th>\n",
       "    </tr>\n",
       "    <tr>\n",
       "      <th>customerID</th>\n",
       "      <th></th>\n",
       "    </tr>\n",
       "  </thead>\n",
       "  <tbody>\n",
       "    <tr>\n",
       "      <th>Friday_1494</th>\n",
       "      <td>spices</td>\n",
       "    </tr>\n",
       "    <tr>\n",
       "      <th>Friday_1496</th>\n",
       "      <td>fruit</td>\n",
       "    </tr>\n",
       "    <tr>\n",
       "      <th>Friday_1500</th>\n",
       "      <td>dairy</td>\n",
       "    </tr>\n",
       "    <tr>\n",
       "      <th>Friday_1503</th>\n",
       "      <td>drinks</td>\n",
       "    </tr>\n",
       "    <tr>\n",
       "      <th>Friday_1505</th>\n",
       "      <td>dairy</td>\n",
       "    </tr>\n",
       "    <tr>\n",
       "      <th>Friday_1506</th>\n",
       "      <td>dairy</td>\n",
       "    </tr>\n",
       "    <tr>\n",
       "      <th>Friday_1509</th>\n",
       "      <td>drinks</td>\n",
       "    </tr>\n",
       "    <tr>\n",
       "      <th>Friday_1510</th>\n",
       "      <td>spices</td>\n",
       "    </tr>\n",
       "    <tr>\n",
       "      <th>Monday_1430</th>\n",
       "      <td>fruit</td>\n",
       "    </tr>\n",
       "    <tr>\n",
       "      <th>Monday_1433</th>\n",
       "      <td>fruit</td>\n",
       "    </tr>\n",
       "    <tr>\n",
       "      <th>Monday_1437</th>\n",
       "      <td>dairy</td>\n",
       "    </tr>\n",
       "    <tr>\n",
       "      <th>Monday_1439</th>\n",
       "      <td>fruit</td>\n",
       "    </tr>\n",
       "    <tr>\n",
       "      <th>Monday_1440</th>\n",
       "      <td>spices</td>\n",
       "    </tr>\n",
       "    <tr>\n",
       "      <th>Monday_1441</th>\n",
       "      <td>spices</td>\n",
       "    </tr>\n",
       "    <tr>\n",
       "      <th>Monday_1443</th>\n",
       "      <td>dairy</td>\n",
       "    </tr>\n",
       "    <tr>\n",
       "      <th>Monday_1445</th>\n",
       "      <td>dairy</td>\n",
       "    </tr>\n",
       "    <tr>\n",
       "      <th>Monday_1446</th>\n",
       "      <td>dairy</td>\n",
       "    </tr>\n",
       "    <tr>\n",
       "      <th>Monday_1447</th>\n",
       "      <td>fruit</td>\n",
       "    </tr>\n",
       "    <tr>\n",
       "      <th>Thursday_1527</th>\n",
       "      <td>dairy</td>\n",
       "    </tr>\n",
       "    <tr>\n",
       "      <th>Thursday_1532</th>\n",
       "      <td>dairy</td>\n",
       "    </tr>\n",
       "    <tr>\n",
       "      <th>Thursday_1533</th>\n",
       "      <td>dairy</td>\n",
       "    </tr>\n",
       "    <tr>\n",
       "      <th>Tuesday_1411</th>\n",
       "      <td>dairy</td>\n",
       "    </tr>\n",
       "    <tr>\n",
       "      <th>Tuesday_1422</th>\n",
       "      <td>dairy</td>\n",
       "    </tr>\n",
       "    <tr>\n",
       "      <th>Wednesday_1520</th>\n",
       "      <td>dairy</td>\n",
       "    </tr>\n",
       "    <tr>\n",
       "      <th>Wednesday_1527</th>\n",
       "      <td>fruit</td>\n",
       "    </tr>\n",
       "    <tr>\n",
       "      <th>Wednesday_1528</th>\n",
       "      <td>spices</td>\n",
       "    </tr>\n",
       "    <tr>\n",
       "      <th>Wednesday_1529</th>\n",
       "      <td>dairy</td>\n",
       "    </tr>\n",
       "    <tr>\n",
       "      <th>Wednesday_1530</th>\n",
       "      <td>fruit</td>\n",
       "    </tr>\n",
       "  </tbody>\n",
       "</table>\n",
       "</div>"
      ],
      "text/plain": [
       "               location\n",
       "customerID             \n",
       "Friday_1494      spices\n",
       "Friday_1496       fruit\n",
       "Friday_1500       dairy\n",
       "Friday_1503      drinks\n",
       "Friday_1505       dairy\n",
       "Friday_1506       dairy\n",
       "Friday_1509      drinks\n",
       "Friday_1510      spices\n",
       "Monday_1430       fruit\n",
       "Monday_1433       fruit\n",
       "Monday_1437       dairy\n",
       "Monday_1439       fruit\n",
       "Monday_1440      spices\n",
       "Monday_1441      spices\n",
       "Monday_1443       dairy\n",
       "Monday_1445       dairy\n",
       "Monday_1446       dairy\n",
       "Monday_1447       fruit\n",
       "Thursday_1527     dairy\n",
       "Thursday_1532     dairy\n",
       "Thursday_1533     dairy\n",
       "Tuesday_1411      dairy\n",
       "Tuesday_1422      dairy\n",
       "Wednesday_1520    dairy\n",
       "Wednesday_1527    fruit\n",
       "Wednesday_1528   spices\n",
       "Wednesday_1529    dairy\n",
       "Wednesday_1530    fruit"
      ]
     },
     "execution_count": 7,
     "metadata": {},
     "output_type": "execute_result"
    }
   ],
   "source": [
    "last_section = pd.DataFrame(df.groupby('customerID')['location'].last())\n",
    "x_c = last_section.loc[last_section['location'] != 'checkout']\n",
    "x_c"
   ]
  },
  {
   "cell_type": "code",
   "execution_count": 8,
   "id": "c57e4de1",
   "metadata": {},
   "outputs": [
    {
     "data": {
      "text/plain": [
       "['Friday_1494',\n",
       " 'Friday_1496',\n",
       " 'Friday_1500',\n",
       " 'Friday_1503',\n",
       " 'Friday_1505',\n",
       " 'Friday_1506',\n",
       " 'Friday_1509',\n",
       " 'Friday_1510',\n",
       " 'Monday_1430',\n",
       " 'Monday_1433',\n",
       " 'Monday_1437',\n",
       " 'Monday_1439',\n",
       " 'Monday_1440',\n",
       " 'Monday_1441',\n",
       " 'Monday_1443',\n",
       " 'Monday_1445',\n",
       " 'Monday_1446',\n",
       " 'Monday_1447',\n",
       " 'Thursday_1527',\n",
       " 'Thursday_1532',\n",
       " 'Thursday_1533',\n",
       " 'Tuesday_1411',\n",
       " 'Tuesday_1422',\n",
       " 'Wednesday_1520',\n",
       " 'Wednesday_1527',\n",
       " 'Wednesday_1528',\n",
       " 'Wednesday_1529',\n",
       " 'Wednesday_1530']"
      ]
     },
     "execution_count": 8,
     "metadata": {},
     "output_type": "execute_result"
    }
   ],
   "source": [
    "#get customerID of those that did not complete checkout\n",
    "xc =[]\n",
    "for customer in x_c.index:\n",
    "    xc.append(customer)\n",
    "\n",
    "xc"
   ]
  },
  {
   "cell_type": "code",
   "execution_count": 9,
   "id": "c204385a",
   "metadata": {},
   "outputs": [],
   "source": [
    "#drop them all\n",
    "df = df.loc[~df['customerID'].isin(xc)]"
   ]
  },
  {
   "cell_type": "markdown",
   "id": "06723c05",
   "metadata": {},
   "source": [
    "#### To simulate customer movement\n",
    "\n",
    "To create the transition matrix, forward fill the minutes till the next customer."
   ]
  },
  {
   "cell_type": "code",
   "execution_count": 10,
   "id": "3ccd4c27",
   "metadata": {},
   "outputs": [],
   "source": [
    "c_flow = df.groupby(['customerID']).resample('min').ffill()"
   ]
  },
  {
   "cell_type": "markdown",
   "id": "bfc575a9",
   "metadata": {},
   "source": [
    "#### Defining STATES\n",
    "\n",
    "Or more like locations/positions"
   ]
  },
  {
   "cell_type": "code",
   "execution_count": 11,
   "id": "239b9fac",
   "metadata": {},
   "outputs": [],
   "source": [
    "states = pd.DataFrame(\n",
    "    {'time': list(range(len(c_flow))), # a list from 0 to the length of data array in steps of 1\n",
    "    'before': c_flow['location']}\n",
    ")"
   ]
  },
  {
   "cell_type": "code",
   "execution_count": 12,
   "id": "7875112c",
   "metadata": {
    "scrolled": true
   },
   "outputs": [
    {
     "data": {
      "text/plain": [
       "customerID     timestamp          \n",
       "Friday_1       2019-09-06 07:00:00       dairy\n",
       "               2019-09-06 07:01:00       dairy\n",
       "               2019-09-06 07:02:00       dairy\n",
       "               2019-09-06 07:03:00      spices\n",
       "               2019-09-06 07:04:00    checkout\n",
       "                                        ...   \n",
       "Wednesday_998  2019-09-04 16:57:00       fruit\n",
       "               2019-09-04 16:58:00    checkout\n",
       "               2019-09-04 16:59:00       fruit\n",
       "Wednesday_999  2019-09-04 16:53:00    checkout\n",
       "               2019-09-04 16:54:00         NaN\n",
       "Name: before, Length: 53745, dtype: object"
      ]
     },
     "execution_count": 12,
     "metadata": {},
     "output_type": "execute_result"
    }
   ],
   "source": [
    "states['before'].shift(-1)"
   ]
  },
  {
   "cell_type": "code",
   "execution_count": 13,
   "id": "a5d9b7c8",
   "metadata": {},
   "outputs": [],
   "source": [
    "states['after'] = states['before'].shift(-1)"
   ]
  },
  {
   "cell_type": "code",
   "execution_count": 14,
   "id": "dd7fa355",
   "metadata": {},
   "outputs": [],
   "source": [
    "states.loc[states['before'] == 'checkout', 'after'] = 'checkout'"
   ]
  },
  {
   "cell_type": "code",
   "execution_count": 15,
   "id": "62a75ded",
   "metadata": {},
   "outputs": [
    {
     "data": {
      "text/html": [
       "<div>\n",
       "<style scoped>\n",
       "    .dataframe tbody tr th:only-of-type {\n",
       "        vertical-align: middle;\n",
       "    }\n",
       "\n",
       "    .dataframe tbody tr th {\n",
       "        vertical-align: top;\n",
       "    }\n",
       "\n",
       "    .dataframe thead th {\n",
       "        text-align: right;\n",
       "    }\n",
       "</style>\n",
       "<table border=\"1\" class=\"dataframe\">\n",
       "  <thead>\n",
       "    <tr style=\"text-align: right;\">\n",
       "      <th></th>\n",
       "      <th></th>\n",
       "      <th>time</th>\n",
       "      <th>before</th>\n",
       "      <th>after</th>\n",
       "    </tr>\n",
       "    <tr>\n",
       "      <th>customerID</th>\n",
       "      <th>timestamp</th>\n",
       "      <th></th>\n",
       "      <th></th>\n",
       "      <th></th>\n",
       "    </tr>\n",
       "  </thead>\n",
       "  <tbody>\n",
       "    <tr>\n",
       "      <th rowspan=\"6\" valign=\"top\">Friday_1</th>\n",
       "      <th>2019-09-06 07:00:00</th>\n",
       "      <td>0</td>\n",
       "      <td>dairy</td>\n",
       "      <td>dairy</td>\n",
       "    </tr>\n",
       "    <tr>\n",
       "      <th>2019-09-06 07:01:00</th>\n",
       "      <td>1</td>\n",
       "      <td>dairy</td>\n",
       "      <td>dairy</td>\n",
       "    </tr>\n",
       "    <tr>\n",
       "      <th>2019-09-06 07:02:00</th>\n",
       "      <td>2</td>\n",
       "      <td>dairy</td>\n",
       "      <td>dairy</td>\n",
       "    </tr>\n",
       "    <tr>\n",
       "      <th>2019-09-06 07:03:00</th>\n",
       "      <td>3</td>\n",
       "      <td>dairy</td>\n",
       "      <td>spices</td>\n",
       "    </tr>\n",
       "    <tr>\n",
       "      <th>2019-09-06 07:04:00</th>\n",
       "      <td>4</td>\n",
       "      <td>spices</td>\n",
       "      <td>checkout</td>\n",
       "    </tr>\n",
       "    <tr>\n",
       "      <th>2019-09-06 07:05:00</th>\n",
       "      <td>5</td>\n",
       "      <td>checkout</td>\n",
       "      <td>checkout</td>\n",
       "    </tr>\n",
       "    <tr>\n",
       "      <th rowspan=\"6\" valign=\"top\">Friday_10</th>\n",
       "      <th>2019-09-06 07:06:00</th>\n",
       "      <td>6</td>\n",
       "      <td>fruit</td>\n",
       "      <td>fruit</td>\n",
       "    </tr>\n",
       "    <tr>\n",
       "      <th>2019-09-06 07:07:00</th>\n",
       "      <td>7</td>\n",
       "      <td>fruit</td>\n",
       "      <td>fruit</td>\n",
       "    </tr>\n",
       "    <tr>\n",
       "      <th>2019-09-06 07:08:00</th>\n",
       "      <td>8</td>\n",
       "      <td>fruit</td>\n",
       "      <td>fruit</td>\n",
       "    </tr>\n",
       "    <tr>\n",
       "      <th>2019-09-06 07:09:00</th>\n",
       "      <td>9</td>\n",
       "      <td>fruit</td>\n",
       "      <td>fruit</td>\n",
       "    </tr>\n",
       "    <tr>\n",
       "      <th>2019-09-06 07:10:00</th>\n",
       "      <td>10</td>\n",
       "      <td>fruit</td>\n",
       "      <td>checkout</td>\n",
       "    </tr>\n",
       "    <tr>\n",
       "      <th>2019-09-06 07:11:00</th>\n",
       "      <td>11</td>\n",
       "      <td>checkout</td>\n",
       "      <td>checkout</td>\n",
       "    </tr>\n",
       "    <tr>\n",
       "      <th rowspan=\"2\" valign=\"top\">Friday_100</th>\n",
       "      <th>2019-09-06 08:03:00</th>\n",
       "      <td>12</td>\n",
       "      <td>fruit</td>\n",
       "      <td>checkout</td>\n",
       "    </tr>\n",
       "    <tr>\n",
       "      <th>2019-09-06 08:04:00</th>\n",
       "      <td>13</td>\n",
       "      <td>checkout</td>\n",
       "      <td>checkout</td>\n",
       "    </tr>\n",
       "    <tr>\n",
       "      <th rowspan=\"2\" valign=\"top\">Friday_1000</th>\n",
       "      <th>2019-09-06 17:19:00</th>\n",
       "      <td>14</td>\n",
       "      <td>fruit</td>\n",
       "      <td>checkout</td>\n",
       "    </tr>\n",
       "    <tr>\n",
       "      <th>2019-09-06 17:20:00</th>\n",
       "      <td>15</td>\n",
       "      <td>checkout</td>\n",
       "      <td>checkout</td>\n",
       "    </tr>\n",
       "    <tr>\n",
       "      <th rowspan=\"4\" valign=\"top\">Friday_1001</th>\n",
       "      <th>2019-09-06 17:19:00</th>\n",
       "      <td>16</td>\n",
       "      <td>fruit</td>\n",
       "      <td>fruit</td>\n",
       "    </tr>\n",
       "    <tr>\n",
       "      <th>2019-09-06 17:20:00</th>\n",
       "      <td>17</td>\n",
       "      <td>fruit</td>\n",
       "      <td>drinks</td>\n",
       "    </tr>\n",
       "    <tr>\n",
       "      <th>2019-09-06 17:21:00</th>\n",
       "      <td>18</td>\n",
       "      <td>drinks</td>\n",
       "      <td>drinks</td>\n",
       "    </tr>\n",
       "    <tr>\n",
       "      <th>2019-09-06 17:22:00</th>\n",
       "      <td>19</td>\n",
       "      <td>drinks</td>\n",
       "      <td>spices</td>\n",
       "    </tr>\n",
       "  </tbody>\n",
       "</table>\n",
       "</div>"
      ],
      "text/plain": [
       "                                 time    before     after\n",
       "customerID  timestamp                                    \n",
       "Friday_1    2019-09-06 07:00:00     0     dairy     dairy\n",
       "            2019-09-06 07:01:00     1     dairy     dairy\n",
       "            2019-09-06 07:02:00     2     dairy     dairy\n",
       "            2019-09-06 07:03:00     3     dairy    spices\n",
       "            2019-09-06 07:04:00     4    spices  checkout\n",
       "            2019-09-06 07:05:00     5  checkout  checkout\n",
       "Friday_10   2019-09-06 07:06:00     6     fruit     fruit\n",
       "            2019-09-06 07:07:00     7     fruit     fruit\n",
       "            2019-09-06 07:08:00     8     fruit     fruit\n",
       "            2019-09-06 07:09:00     9     fruit     fruit\n",
       "            2019-09-06 07:10:00    10     fruit  checkout\n",
       "            2019-09-06 07:11:00    11  checkout  checkout\n",
       "Friday_100  2019-09-06 08:03:00    12     fruit  checkout\n",
       "            2019-09-06 08:04:00    13  checkout  checkout\n",
       "Friday_1000 2019-09-06 17:19:00    14     fruit  checkout\n",
       "            2019-09-06 17:20:00    15  checkout  checkout\n",
       "Friday_1001 2019-09-06 17:19:00    16     fruit     fruit\n",
       "            2019-09-06 17:20:00    17     fruit    drinks\n",
       "            2019-09-06 17:21:00    18    drinks    drinks\n",
       "            2019-09-06 17:22:00    19    drinks    spices"
      ]
     },
     "execution_count": 15,
     "metadata": {},
     "output_type": "execute_result"
    }
   ],
   "source": [
    "states.head(20)\n",
    "\n",
    "#force fill 'after' for checkout as checkout so checkout > checkout"
   ]
  },
  {
   "cell_type": "markdown",
   "id": "d6f23542",
   "metadata": {},
   "source": [
    "#### Get Transitional Probabilities"
   ]
  },
  {
   "cell_type": "code",
   "execution_count": 16,
   "id": "13e28288",
   "metadata": {},
   "outputs": [
    {
     "data": {
      "text/html": [
       "<div>\n",
       "<style scoped>\n",
       "    .dataframe tbody tr th:only-of-type {\n",
       "        vertical-align: middle;\n",
       "    }\n",
       "\n",
       "    .dataframe tbody tr th {\n",
       "        vertical-align: top;\n",
       "    }\n",
       "\n",
       "    .dataframe thead th {\n",
       "        text-align: right;\n",
       "    }\n",
       "</style>\n",
       "<table border=\"1\" class=\"dataframe\">\n",
       "  <thead>\n",
       "    <tr style=\"text-align: right;\">\n",
       "      <th>after</th>\n",
       "      <th>checkout</th>\n",
       "      <th>dairy</th>\n",
       "      <th>drinks</th>\n",
       "      <th>fruit</th>\n",
       "      <th>spices</th>\n",
       "    </tr>\n",
       "    <tr>\n",
       "      <th>before</th>\n",
       "      <th></th>\n",
       "      <th></th>\n",
       "      <th></th>\n",
       "      <th></th>\n",
       "      <th></th>\n",
       "    </tr>\n",
       "  </thead>\n",
       "  <tbody>\n",
       "    <tr>\n",
       "      <th>checkout</th>\n",
       "      <td>7417</td>\n",
       "      <td>0</td>\n",
       "      <td>0</td>\n",
       "      <td>0</td>\n",
       "      <td>0</td>\n",
       "    </tr>\n",
       "    <tr>\n",
       "      <th>dairy</th>\n",
       "      <td>1825</td>\n",
       "      <td>13073</td>\n",
       "      <td>1034</td>\n",
       "      <td>883</td>\n",
       "      <td>909</td>\n",
       "    </tr>\n",
       "    <tr>\n",
       "      <th>drinks</th>\n",
       "      <td>2096</td>\n",
       "      <td>106</td>\n",
       "      <td>5798</td>\n",
       "      <td>847</td>\n",
       "      <td>840</td>\n",
       "    </tr>\n",
       "    <tr>\n",
       "      <th>fruit</th>\n",
       "      <td>2555</td>\n",
       "      <td>1209</td>\n",
       "      <td>696</td>\n",
       "      <td>7561</td>\n",
       "      <td>642</td>\n",
       "    </tr>\n",
       "    <tr>\n",
       "      <th>spices</th>\n",
       "      <td>941</td>\n",
       "      <td>1210</td>\n",
       "      <td>1020</td>\n",
       "      <td>568</td>\n",
       "      <td>2515</td>\n",
       "    </tr>\n",
       "  </tbody>\n",
       "</table>\n",
       "</div>"
      ],
      "text/plain": [
       "after     checkout  dairy  drinks  fruit  spices\n",
       "before                                          \n",
       "checkout      7417      0       0      0       0\n",
       "dairy         1825  13073    1034    883     909\n",
       "drinks        2096    106    5798    847     840\n",
       "fruit         2555   1209     696   7561     642\n",
       "spices         941   1210    1020    568    2515"
      ]
     },
     "execution_count": 16,
     "metadata": {},
     "output_type": "execute_result"
    }
   ],
   "source": [
    "pd.crosstab(states['before'],states['after'])"
   ]
  },
  {
   "cell_type": "code",
   "execution_count": 17,
   "id": "a616c334",
   "metadata": {
    "scrolled": true
   },
   "outputs": [
    {
     "data": {
      "text/html": [
       "<div>\n",
       "<style scoped>\n",
       "    .dataframe tbody tr th:only-of-type {\n",
       "        vertical-align: middle;\n",
       "    }\n",
       "\n",
       "    .dataframe tbody tr th {\n",
       "        vertical-align: top;\n",
       "    }\n",
       "\n",
       "    .dataframe thead th {\n",
       "        text-align: right;\n",
       "    }\n",
       "</style>\n",
       "<table border=\"1\" class=\"dataframe\">\n",
       "  <thead>\n",
       "    <tr style=\"text-align: right;\">\n",
       "      <th>after</th>\n",
       "      <th>checkout</th>\n",
       "      <th>dairy</th>\n",
       "      <th>drinks</th>\n",
       "      <th>fruit</th>\n",
       "      <th>spices</th>\n",
       "    </tr>\n",
       "    <tr>\n",
       "      <th>before</th>\n",
       "      <th></th>\n",
       "      <th></th>\n",
       "      <th></th>\n",
       "      <th></th>\n",
       "      <th></th>\n",
       "    </tr>\n",
       "  </thead>\n",
       "  <tbody>\n",
       "    <tr>\n",
       "      <th>checkout</th>\n",
       "      <td>1.000000</td>\n",
       "      <td>0.000000</td>\n",
       "      <td>0.000000</td>\n",
       "      <td>0.000000</td>\n",
       "      <td>0.000000</td>\n",
       "    </tr>\n",
       "    <tr>\n",
       "      <th>dairy</th>\n",
       "      <td>0.102968</td>\n",
       "      <td>0.737587</td>\n",
       "      <td>0.058339</td>\n",
       "      <td>0.049819</td>\n",
       "      <td>0.051286</td>\n",
       "    </tr>\n",
       "    <tr>\n",
       "      <th>drinks</th>\n",
       "      <td>0.216372</td>\n",
       "      <td>0.010943</td>\n",
       "      <td>0.598534</td>\n",
       "      <td>0.087437</td>\n",
       "      <td>0.086714</td>\n",
       "    </tr>\n",
       "    <tr>\n",
       "      <th>fruit</th>\n",
       "      <td>0.201769</td>\n",
       "      <td>0.095475</td>\n",
       "      <td>0.054963</td>\n",
       "      <td>0.597094</td>\n",
       "      <td>0.050699</td>\n",
       "    </tr>\n",
       "    <tr>\n",
       "      <th>spices</th>\n",
       "      <td>0.150464</td>\n",
       "      <td>0.193476</td>\n",
       "      <td>0.163096</td>\n",
       "      <td>0.090822</td>\n",
       "      <td>0.402143</td>\n",
       "    </tr>\n",
       "  </tbody>\n",
       "</table>\n",
       "</div>"
      ],
      "text/plain": [
       "after     checkout     dairy    drinks     fruit    spices\n",
       "before                                                    \n",
       "checkout  1.000000  0.000000  0.000000  0.000000  0.000000\n",
       "dairy     0.102968  0.737587  0.058339  0.049819  0.051286\n",
       "drinks    0.216372  0.010943  0.598534  0.087437  0.086714\n",
       "fruit     0.201769  0.095475  0.054963  0.597094  0.050699\n",
       "spices    0.150464  0.193476  0.163096  0.090822  0.402143"
      ]
     },
     "execution_count": 17,
     "metadata": {},
     "output_type": "execute_result"
    }
   ],
   "source": [
    "P = pd.crosstab(states['before'], states['after'], normalize = 0) \n",
    "P"
   ]
  },
  {
   "cell_type": "code",
   "execution_count": 18,
   "id": "11b67bc0",
   "metadata": {},
   "outputs": [
    {
     "data": {
      "image/png": "[encoded data removed]",
      "text/plain": [
       "<Figure size 432x288 with 2 Axes>"
      ]
     },
     "metadata": {
      "needs_background": "light"
     },
     "output_type": "display_data"
    }
   ],
   "source": [
    "sns.heatmap(P, linewidth = 1, annot = True)\n",
    "plt.title('Transition Probabilities')\n",
    "plt.show()"
   ]
  },
  {
   "cell_type": "markdown",
   "id": "74bed882",
   "metadata": {},
   "source": [
    "#### Predicting the customer's next step with `choices`\n",
    "\n",
    "If the customer in `location` X, where will they go next?"
   ]
  },
  {
   "cell_type": "code",
   "execution_count": 19,
   "id": "e0e1c101",
   "metadata": {},
   "outputs": [],
   "source": [
    "def next_location(start):\n",
    "    locations = ['checkout','dairy','drinks','fruit','spices']\n",
    "    return choices(locations, weights = P[P.index == start].values[0])"
   ]
  },
  {
   "cell_type": "code",
   "execution_count": 20,
   "id": "7f4b0238",
   "metadata": {},
   "outputs": [
    {
     "data": {
      "text/plain": [
       "['fruit']"
      ]
     },
     "execution_count": 20,
     "metadata": {},
     "output_type": "execute_result"
    }
   ],
   "source": [
    "next_location('spices')"
   ]
  },
  {
   "cell_type": "code",
   "execution_count": 21,
   "id": "2343792d",
   "metadata": {},
   "outputs": [
    {
     "data": {
      "text/plain": [
       "['fruit']"
      ]
     },
     "execution_count": 21,
     "metadata": {},
     "output_type": "execute_result"
    }
   ],
   "source": [
    "next_location('fruit')"
   ]
  },
  {
   "cell_type": "code",
   "execution_count": 22,
   "id": "56cf777e",
   "metadata": {},
   "outputs": [
    {
     "data": {
      "text/plain": [
       "['drinks']"
      ]
     },
     "execution_count": 22,
     "metadata": {},
     "output_type": "execute_result"
    }
   ],
   "source": [
    "next_location('drinks')"
   ]
  },
  {
   "cell_type": "code",
   "execution_count": 23,
   "id": "93653c1e",
   "metadata": {},
   "outputs": [
    {
     "data": {
      "text/plain": [
       "['checkout']"
      ]
     },
     "execution_count": 23,
     "metadata": {},
     "output_type": "execute_result"
    }
   ],
   "source": [
    "next_location('dairy')"
   ]
  },
  {
   "cell_type": "code",
   "execution_count": 24,
   "id": "27126c19",
   "metadata": {},
   "outputs": [
    {
     "data": {
      "text/plain": [
       "['checkout']"
      ]
     },
     "execution_count": 24,
     "metadata": {},
     "output_type": "execute_result"
    }
   ],
   "source": [
    "next_location('checkout')"
   ]
  },
  {
   "cell_type": "markdown",
   "id": "a5d34e1d",
   "metadata": {},
   "source": [
    "### MC-Simulation\n",
    "\n",
    "Implement the following:\n",
    "\n",
    "1. Set an initial state distribution vector with all customers in the entrance\n",
    "2. Store the state distribution in a result object (list, DataFrame or similar)\n",
    "3. Calculate the next state as a dot product of your transition probability matrix P\n",
    "4. Repeat from 2 for a number of steps\n",
    "5. Plot the result"
   ]
  },
  {
   "cell_type": "markdown",
   "id": "e9c06804",
   "metadata": {},
   "source": [
    "#### Adding Entrance location to the dataset\n",
    "\n",
    "Everyone starts from the 'Entrance' point"
   ]
  },
  {
   "cell_type": "code",
   "execution_count": 25,
   "id": "7a144134",
   "metadata": {},
   "outputs": [],
   "source": [
    "sections = ['checkout','dairy','drinks','fruit','spices','entrance']"
   ]
  },
  {
   "cell_type": "markdown",
   "id": "8b92e90d",
   "metadata": {},
   "source": [
    "#### Obtaining weights for Entrance to First Section"
   ]
  },
  {
   "cell_type": "code",
   "execution_count": 26,
   "id": "4dc09ed3",
   "metadata": {},
   "outputs": [],
   "source": [
    "first_section = pd.DataFrame(df.groupby('customerID')['location'].first())"
   ]
  },
  {
   "cell_type": "code",
   "execution_count": 27,
   "id": "19257ef1",
   "metadata": {},
   "outputs": [
    {
     "name": "stdout",
     "output_type": "stream",
     "text": [
      "dairy : 0.2866388027504382\n",
      "fruit : 0.3780504247000135\n",
      "spice : 0.18174464069030605\n",
      "drink : 0.15356613185924228\n"
     ]
    }
   ],
   "source": [
    "sec_total = first_section['location'].value_counts().sum()\n",
    "\n",
    "#dairy\n",
    "dairy_count = first_section['location'].value_counts()['dairy']\n",
    "dairy_pct = dairy_count/sec_total\n",
    "print('dairy :', dairy_pct)\n",
    "\n",
    "#fruit\n",
    "fruit_count = first_section['location'].value_counts()['fruit']\n",
    "fruit_pct = fruit_count/sec_total\n",
    "print('fruit :', fruit_pct)\n",
    "\n",
    "#spices\n",
    "spice_count = first_section['location'].value_counts()['spices']\n",
    "spice_pct = spice_count/sec_total\n",
    "print('spice :', spice_pct)\n",
    "\n",
    "#drinks\n",
    "drink_count = first_section['location'].value_counts()['drinks']\n",
    "drink_pct = drink_count/sec_total\n",
    "print('drink :', drink_pct)"
   ]
  },
  {
   "cell_type": "code",
   "execution_count": 28,
   "id": "66a62621",
   "metadata": {},
   "outputs": [],
   "source": [
    "nuP = np.array([0, 0.2866388027504382, 0.15356613185924228, 0.3780504247000135, 0.18174464069030605])"
   ]
  },
  {
   "cell_type": "code",
   "execution_count": 29,
   "id": "75b31403",
   "metadata": {},
   "outputs": [
    {
     "data": {
      "text/html": [
       "<div>\n",
       "<style scoped>\n",
       "    .dataframe tbody tr th:only-of-type {\n",
       "        vertical-align: middle;\n",
       "    }\n",
       "\n",
       "    .dataframe tbody tr th {\n",
       "        vertical-align: top;\n",
       "    }\n",
       "\n",
       "    .dataframe thead th {\n",
       "        text-align: right;\n",
       "    }\n",
       "</style>\n",
       "<table border=\"1\" class=\"dataframe\">\n",
       "  <thead>\n",
       "    <tr style=\"text-align: right;\">\n",
       "      <th>after</th>\n",
       "      <th>checkout</th>\n",
       "      <th>dairy</th>\n",
       "      <th>drinks</th>\n",
       "      <th>fruit</th>\n",
       "      <th>spices</th>\n",
       "    </tr>\n",
       "    <tr>\n",
       "      <th>before</th>\n",
       "      <th></th>\n",
       "      <th></th>\n",
       "      <th></th>\n",
       "      <th></th>\n",
       "      <th></th>\n",
       "    </tr>\n",
       "  </thead>\n",
       "  <tbody>\n",
       "    <tr>\n",
       "      <th>checkout</th>\n",
       "      <td>1.000000</td>\n",
       "      <td>0.000000</td>\n",
       "      <td>0.000000</td>\n",
       "      <td>0.000000</td>\n",
       "      <td>0.000000</td>\n",
       "    </tr>\n",
       "    <tr>\n",
       "      <th>dairy</th>\n",
       "      <td>0.102968</td>\n",
       "      <td>0.737587</td>\n",
       "      <td>0.058339</td>\n",
       "      <td>0.049819</td>\n",
       "      <td>0.051286</td>\n",
       "    </tr>\n",
       "    <tr>\n",
       "      <th>drinks</th>\n",
       "      <td>0.216372</td>\n",
       "      <td>0.010943</td>\n",
       "      <td>0.598534</td>\n",
       "      <td>0.087437</td>\n",
       "      <td>0.086714</td>\n",
       "    </tr>\n",
       "    <tr>\n",
       "      <th>fruit</th>\n",
       "      <td>0.201769</td>\n",
       "      <td>0.095475</td>\n",
       "      <td>0.054963</td>\n",
       "      <td>0.597094</td>\n",
       "      <td>0.050699</td>\n",
       "    </tr>\n",
       "    <tr>\n",
       "      <th>spices</th>\n",
       "      <td>0.150464</td>\n",
       "      <td>0.193476</td>\n",
       "      <td>0.163096</td>\n",
       "      <td>0.090822</td>\n",
       "      <td>0.402143</td>\n",
       "    </tr>\n",
       "  </tbody>\n",
       "</table>\n",
       "</div>"
      ],
      "text/plain": [
       "after     checkout     dairy    drinks     fruit    spices\n",
       "before                                                    \n",
       "checkout  1.000000  0.000000  0.000000  0.000000  0.000000\n",
       "dairy     0.102968  0.737587  0.058339  0.049819  0.051286\n",
       "drinks    0.216372  0.010943  0.598534  0.087437  0.086714\n",
       "fruit     0.201769  0.095475  0.054963  0.597094  0.050699\n",
       "spices    0.150464  0.193476  0.163096  0.090822  0.402143"
      ]
     },
     "execution_count": 29,
     "metadata": {},
     "output_type": "execute_result"
    }
   ],
   "source": [
    "P"
   ]
  },
  {
   "cell_type": "code",
   "execution_count": 30,
   "id": "d135e7f7",
   "metadata": {
    "scrolled": true
   },
   "outputs": [],
   "source": [
    "lol = P.values"
   ]
  },
  {
   "cell_type": "code",
   "execution_count": 31,
   "id": "5f98f407",
   "metadata": {},
   "outputs": [
    {
     "data": {
      "text/plain": [
       "array([[1.        , 0.        , 0.        , 0.        , 0.        ],\n",
       "       [0.10296773, 0.73758745, 0.05833898, 0.04981945, 0.05128639],\n",
       "       [0.21637246, 0.0109425 , 0.59853412, 0.08743677, 0.08671415],\n",
       "       [0.20176893, 0.09547501, 0.05496328, 0.5970939 , 0.05069889],\n",
       "       [0.1504637 , 0.19347618, 0.16309562, 0.09082187, 0.40214263]])"
      ]
     },
     "execution_count": 31,
     "metadata": {},
     "output_type": "execute_result"
    }
   ],
   "source": [
    "lol"
   ]
  },
  {
   "cell_type": "code",
   "execution_count": 32,
   "id": "75ec4a56",
   "metadata": {},
   "outputs": [
    {
     "data": {
      "text/plain": [
       "array([1.        , 0.        , 0.        , 0.        , 0.        ,\n",
       "       0.10296773, 0.73758745, 0.05833898, 0.04981945, 0.05128639,\n",
       "       0.21637246, 0.0109425 , 0.59853412, 0.08743677, 0.08671415,\n",
       "       0.20176893, 0.09547501, 0.05496328, 0.5970939 , 0.05069889,\n",
       "       0.1504637 , 0.19347618, 0.16309562, 0.09082187, 0.40214263,\n",
       "       0.        , 0.2866388 , 0.15356613, 0.37805042, 0.18174464])"
      ]
     },
     "execution_count": 32,
     "metadata": {},
     "output_type": "execute_result"
    }
   ],
   "source": [
    "lol = np.append(lol, nuP)\n",
    "lol"
   ]
  },
  {
   "cell_type": "code",
   "execution_count": 33,
   "id": "645de7a0",
   "metadata": {},
   "outputs": [
    {
     "data": {
      "text/plain": [
       "array([[1.        , 0.        , 0.        , 0.        , 0.        ],\n",
       "       [0.10296773, 0.73758745, 0.05833898, 0.04981945, 0.05128639],\n",
       "       [0.21637246, 0.0109425 , 0.59853412, 0.08743677, 0.08671415],\n",
       "       [0.20176893, 0.09547501, 0.05496328, 0.5970939 , 0.05069889],\n",
       "       [0.1504637 , 0.19347618, 0.16309562, 0.09082187, 0.40214263],\n",
       "       [0.        , 0.2866388 , 0.15356613, 0.37805042, 0.18174464]])"
      ]
     },
     "execution_count": 33,
     "metadata": {},
     "output_type": "execute_result"
    }
   ],
   "source": [
    "nuP_a = lol.reshape(6, 5)\n",
    "nuP_a"
   ]
  },
  {
   "cell_type": "code",
   "execution_count": 34,
   "id": "36bf00fb",
   "metadata": {},
   "outputs": [],
   "source": [
    "nuP_a = np.insert(nuP_a,[5], 0, axis=1)"
   ]
  },
  {
   "cell_type": "code",
   "execution_count": 35,
   "id": "5a117570",
   "metadata": {},
   "outputs": [
    {
     "data": {
      "text/html": [
       "<div>\n",
       "<style scoped>\n",
       "    .dataframe tbody tr th:only-of-type {\n",
       "        vertical-align: middle;\n",
       "    }\n",
       "\n",
       "    .dataframe tbody tr th {\n",
       "        vertical-align: top;\n",
       "    }\n",
       "\n",
       "    .dataframe thead th {\n",
       "        text-align: right;\n",
       "    }\n",
       "</style>\n",
       "<table border=\"1\" class=\"dataframe\">\n",
       "  <thead>\n",
       "    <tr style=\"text-align: right;\">\n",
       "      <th></th>\n",
       "      <th>checkout</th>\n",
       "      <th>dairy</th>\n",
       "      <th>drinks</th>\n",
       "      <th>fruit</th>\n",
       "      <th>spices</th>\n",
       "      <th>entrance</th>\n",
       "    </tr>\n",
       "  </thead>\n",
       "  <tbody>\n",
       "    <tr>\n",
       "      <th>checkout</th>\n",
       "      <td>1.000000</td>\n",
       "      <td>0.000000</td>\n",
       "      <td>0.000000</td>\n",
       "      <td>0.000000</td>\n",
       "      <td>0.000000</td>\n",
       "      <td>0.0</td>\n",
       "    </tr>\n",
       "    <tr>\n",
       "      <th>dairy</th>\n",
       "      <td>0.102968</td>\n",
       "      <td>0.737587</td>\n",
       "      <td>0.058339</td>\n",
       "      <td>0.049819</td>\n",
       "      <td>0.051286</td>\n",
       "      <td>0.0</td>\n",
       "    </tr>\n",
       "    <tr>\n",
       "      <th>drinks</th>\n",
       "      <td>0.216372</td>\n",
       "      <td>0.010943</td>\n",
       "      <td>0.598534</td>\n",
       "      <td>0.087437</td>\n",
       "      <td>0.086714</td>\n",
       "      <td>0.0</td>\n",
       "    </tr>\n",
       "    <tr>\n",
       "      <th>fruit</th>\n",
       "      <td>0.201769</td>\n",
       "      <td>0.095475</td>\n",
       "      <td>0.054963</td>\n",
       "      <td>0.597094</td>\n",
       "      <td>0.050699</td>\n",
       "      <td>0.0</td>\n",
       "    </tr>\n",
       "    <tr>\n",
       "      <th>spices</th>\n",
       "      <td>0.150464</td>\n",
       "      <td>0.193476</td>\n",
       "      <td>0.163096</td>\n",
       "      <td>0.090822</td>\n",
       "      <td>0.402143</td>\n",
       "      <td>0.0</td>\n",
       "    </tr>\n",
       "    <tr>\n",
       "      <th>entrance</th>\n",
       "      <td>0.000000</td>\n",
       "      <td>0.286639</td>\n",
       "      <td>0.153566</td>\n",
       "      <td>0.378050</td>\n",
       "      <td>0.181745</td>\n",
       "      <td>0.0</td>\n",
       "    </tr>\n",
       "  </tbody>\n",
       "</table>\n",
       "</div>"
      ],
      "text/plain": [
       "          checkout     dairy    drinks     fruit    spices  entrance\n",
       "checkout  1.000000  0.000000  0.000000  0.000000  0.000000       0.0\n",
       "dairy     0.102968  0.737587  0.058339  0.049819  0.051286       0.0\n",
       "drinks    0.216372  0.010943  0.598534  0.087437  0.086714       0.0\n",
       "fruit     0.201769  0.095475  0.054963  0.597094  0.050699       0.0\n",
       "spices    0.150464  0.193476  0.163096  0.090822  0.402143       0.0\n",
       "entrance  0.000000  0.286639  0.153566  0.378050  0.181745       0.0"
      ]
     },
     "execution_count": 35,
     "metadata": {},
     "output_type": "execute_result"
    }
   ],
   "source": [
    "nuP = pd.DataFrame(nuP_a, index=sections, columns=sections)\n",
    "#nuP = nuP.T\n",
    "nuP"
   ]
  },
  {
   "cell_type": "code",
   "execution_count": 36,
   "id": "c9ad5760",
   "metadata": {},
   "outputs": [],
   "source": [
    "initial = np.array([0, 0, 0, 0, 0, 1000])"
   ]
  },
  {
   "cell_type": "code",
   "execution_count": 37,
   "id": "80a0de55",
   "metadata": {},
   "outputs": [
    {
     "name": "stdout",
     "output_type": "stream",
     "text": [
      "[  0. 287. 154. 378. 182.   0.]\n",
      "[166. 284. 159. 270. 120.   0.]\n",
      "[303. 261. 146. 200.  90.   0.]\n",
      "[415. 230. 128. 154.  73.   0.]\n",
      "[509. 200. 111. 121.  60.   0.]\n",
      "[586. 172.  94.  97.  50.   0.]\n",
      "[652. 147.  80.  79.  42.   0.]\n",
      "[706. 125.  68.  66.  35.   0.]\n",
      "[753. 106.  57.  55.  30.   0.]\n",
      "[791.  90.  48.  46.  25.   0.]\n",
      "[824.  76.  41.  38.  21.   0.]\n",
      "[851.  64.  34.  32.  18.   0.]\n",
      "[875.  54.  29.  27.  15.   0.]\n",
      "[894.  46.  24.  23.  13.   0.]\n",
      "[911.  39.  21.  19.  11.   0.]\n",
      "[925.  33.  17.  16.   9.   0.]\n",
      "[936.  28.  15.  14.   8.   0.]\n",
      "[946.  23.  12.  11.   6.   0.]\n",
      "[955.  20.  10.  10.   5.   0.]\n",
      "[962.  17.   9.   8.   5.   0.]\n",
      "[968.  14.   7.   7.   4.   0.]\n",
      "[973.  12.   6.   6.   3.   0.]\n",
      "[977.  10.   5.   5.   3.   0.]\n",
      "[981.   8.   4.   4.   2.   0.]\n",
      "[984.   7.   4.   3.   2.   0.]\n",
      "[986.   6.   3.   3.   2.   0.]\n",
      "[988.   5.   3.   2.   1.   0.]\n",
      "[990.   4.   2.   2.   1.   0.]\n",
      "[992.   4.   2.   2.   1.   0.]\n",
      "[993.   3.   2.   1.   1.   0.]\n",
      "[994.   3.   1.   1.   1.   0.]\n",
      "[995.   2.   1.   1.   1.   0.]\n",
      "[996.   2.   1.   1.   1.   0.]\n",
      "[996.   2.   1.   1.   0.   0.]\n",
      "[997.   1.   1.   1.   0.   0.]\n",
      "[997.   1.   1.   1.   0.   0.]\n",
      "[998.   1.   0.   0.   0.   0.]\n",
      "[998.   1.   0.   0.   0.   0.]\n",
      "[998.   1.   0.   0.   0.   0.]\n",
      "[999.   1.   0.   0.   0.   0.]\n",
      "[999.   0.   0.   0.   0.   0.]\n",
      "[999.   0.   0.   0.   0.   0.]\n",
      "[999.   0.   0.   0.   0.   0.]\n",
      "[999.   0.   0.   0.   0.   0.]\n",
      "[999.   0.   0.   0.   0.   0.]\n",
      "[1000.    0.    0.    0.    0.    0.]\n",
      "[1000.    0.    0.    0.    0.    0.]\n",
      "[1000.    0.    0.    0.    0.    0.]\n",
      "[1000.    0.    0.    0.    0.    0.]\n",
      "[1000.    0.    0.    0.    0.    0.]\n"
     ]
    }
   ],
   "source": [
    "for i in range(50):\n",
    "    initial = initial.dot(nuP)\n",
    "    print(initial.round())"
   ]
  },
  {
   "cell_type": "markdown",
   "id": "dbbab9e9",
   "metadata": {},
   "source": [
    "#### Create a Customer class\n",
    "\n",
    "How to call on a customerID = states.index.names[0]"
   ]
  },
  {
   "cell_type": "code",
   "execution_count": 38,
   "id": "c21e8e6b",
   "metadata": {},
   "outputs": [],
   "source": [
    "sections =['checkout','dairy','drinks','fruit','spices']\n",
    "w = [1, 0.2866388027504382, 0.15356613185924228, 0.3780504247000135, 0.18174464069030605]"
   ]
  },
  {
   "cell_type": "code",
   "execution_count": 39,
   "id": "7bfbdce6",
   "metadata": {},
   "outputs": [],
   "source": [
    "#seed(70)\n",
    "\n",
    "#generate fake data\n",
    "fake = Faker()"
   ]
  },
  {
   "cell_type": "code",
   "execution_count": 98,
   "id": "13a62fd6",
   "metadata": {},
   "outputs": [],
   "source": [
    "name = fake.first_name()\n",
    "budget = randint(1,1000)\n",
    "state = choices(sections, weights=w)[0]\n",
    "\n",
    "class Customer:\n",
    "    \"\"\"\n",
    "    a single customer that moves through the supermarket\n",
    "    in a MCMC simulation\n",
    "    \"\"\"\n",
    "\n",
    "    def __init__(self, name, state, transition_probs, budget):\n",
    "        self.name = name\n",
    "        self.state = state\n",
    "        self.budget = budget\n",
    "        self.transition_probs = transition_probs\n",
    "    \n",
    "    def __repr__(self):\n",
    "        return f'<Customer {self.name} in {self.state}>'\n",
    "    \n",
    "    def next_state(self):\n",
    "        '''Propagates the customer to the next state. Returns predicted next_state.'''\n",
    "        move_to = choices(sections, weights = P[P.index == self.state].values[0])\n",
    "        return move_to[0]\n",
    "\n",
    "    def is_active(self):\n",
    "        '''Returns True if the customer has not reached the checkout yet.'''\n",
    "        if self.state != 'checkout':\n",
    "            return True"
   ]
  },
  {
   "cell_type": "code",
   "execution_count": 41,
   "id": "6b4212a1",
   "metadata": {
    "scrolled": true
   },
   "outputs": [
    {
     "name": "stdout",
     "output_type": "stream",
     "text": [
      "Customer Bill in the checkout section has 567 Larks.\n",
      "Customer Bill will probably move to the checkout section next.\n",
      "\n",
      "Customer William in the dairy section has 80 Larks.\n",
      "Customer William will probably move to the dairy section next.\n",
      "\n",
      "Customer Daniel in the drinks section has 108 Larks.\n",
      "Customer Daniel will probably move to the drinks section next.\n",
      "\n"
     ]
    }
   ],
   "source": [
    "for i in range(3):\n",
    "    \n",
    "    # create new customer\n",
    "    cust = 'cust' + str(i)\n",
    "    \n",
    "    # def the variables in Customer()\n",
    "    name = fake.first_name()\n",
    "    budget = randint(1,1000)\n",
    "    state = choices(sections, weights=w)[0]\n",
    "    \n",
    "    # instanciate customer\n",
    "    cust = Customer(name, state, P, budget)\n",
    "    \n",
    "    # print where i comes out at\n",
    "    print( f'Customer {cust.name} in the {cust.state} section has {cust.budget} Larks.\\nCustomer {cust.name} will probably move to the {cust.next_state()} section next.\\n')   \n",
    "    "
   ]
  },
  {
   "cell_type": "markdown",
   "id": "15c79a72",
   "metadata": {},
   "source": [
    "#### Now, simulate customers until they leave the supermarket"
   ]
  },
  {
   "cell_type": "code",
   "execution_count": 42,
   "id": "4a57205c",
   "metadata": {},
   "outputs": [],
   "source": [
    "init_section =['dairy','drinks','fruit','spices']\n",
    "init_section_w = [0.2866388027504382, 0.15356613185924228, 0.3780504247000135, 0.18174464069030605]"
   ]
  },
  {
   "cell_type": "code",
   "execution_count": 43,
   "id": "54a86010",
   "metadata": {},
   "outputs": [
    {
     "name": "stdout",
     "output_type": "stream",
     "text": [
      "Customer Jennifer is in the drinks section.\n",
      "Customer Jennifer is in the checkout section.\n",
      "['drinks', 'checkout']\n"
     ]
    }
   ],
   "source": [
    "# def the variables in Customer()\n",
    "name = fake.first_name()\n",
    "budget = randint(1,1000)\n",
    "state = choices(init_section, weights=init_section_w)[0]\n",
    "\n",
    "# instanciate customer\n",
    "cust = Customer(name, state, P, budget)\n",
    "print( f'Customer {cust.name} is in the {cust.state} section.')\n",
    "\n",
    "# keep track of list\n",
    "state_list = [state]\n",
    "\n",
    "while cust.state != 'checkout':    \n",
    "    # update state\n",
    "    state = cust.next_state()\n",
    "    # keep track of movement in a list\n",
    "    state_list.append(state)\n",
    "    # instanciate customer\n",
    "    cust = Customer(name, state, P, budget)\n",
    "    # print customer movement\n",
    "    print( f'Customer {cust.name} is in the {cust.state} section.')   \n",
    "    \n",
    "else:\n",
    "    print(state_list)"
   ]
  },
  {
   "cell_type": "markdown",
   "id": "fcd8451c",
   "metadata": {},
   "source": [
    "#### Simulate 3 customers"
   ]
  },
  {
   "cell_type": "code",
   "execution_count": 96,
   "id": "4508b191",
   "metadata": {},
   "outputs": [
    {
     "name": "stdout",
     "output_type": "stream",
     "text": [
      "Brooke has entered the supermarket. \n",
      "\n",
      "Brooke is at the fruit section.\n",
      "Brooke is still at the fruit section.\n",
      "Brooke is at the checkout section.\n",
      "\n",
      "Brooke has left the supermarket.\n",
      "\n",
      "Brooke spent 15 minutes in 2 sections.\n",
      "{'fruit', 'checkout'}\n",
      "\n",
      "Customer journey: \n",
      "['fruit', 'fruit', 'checkout']\n",
      "\n",
      "\n",
      "Brandi has entered the supermarket. \n",
      "\n",
      "Brandi is at the fruit section.\n",
      "Brandi is still at the fruit section.\n",
      "Brandi is still at the fruit section.\n",
      "Brandi is still at the fruit section.\n",
      "Brandi is at the spices section.\n",
      "Brandi is at the drinks section.\n",
      "Brandi is still at the drinks section.\n",
      "Brandi is still at the drinks section.\n",
      "Brandi is still at the drinks section.\n",
      "Brandi is at the spices section again.\n",
      "Brandi is at the dairy section.\n",
      "Brandi is still at the dairy section.\n",
      "Brandi is still at the dairy section.\n",
      "Brandi is still at the dairy section.\n",
      "Brandi is at the checkout section.\n",
      "\n",
      "Brandi has left the supermarket.\n",
      "\n",
      "Brandi spent 75 minutes in 5 sections.\n",
      "{'dairy', 'checkout', 'drinks', 'fruit', 'spices'}\n",
      "\n",
      "Customer journey: \n",
      "['fruit', 'fruit', 'fruit', 'fruit', 'spices', 'drinks', 'drinks', 'drinks', 'drinks', 'spices', 'dairy', 'dairy', 'dairy', 'dairy', 'checkout']\n",
      "\n",
      "\n",
      "Corey has entered the supermarket. \n",
      "\n",
      "Corey is at the fruit section.\n",
      "Corey is still at the fruit section.\n",
      "Corey is at the checkout section.\n",
      "\n",
      "Corey has left the supermarket.\n",
      "\n",
      "Corey spent 15 minutes in 2 sections.\n",
      "{'fruit', 'checkout'}\n",
      "\n",
      "Customer journey: \n",
      "['fruit', 'fruit', 'checkout']\n",
      "\n",
      "\n"
     ]
    }
   ],
   "source": [
    "for _ in range(3):\n",
    "    \n",
    "    # create new customer\n",
    "    cust = 'cust' + str(i)\n",
    "    \n",
    "    # def the variables in Customer()\n",
    "    name = fake.first_name()\n",
    "    budget = randint(1,1000)\n",
    "    state = choices(init_section, weights=init_section_w)[0]\n",
    "\n",
    "    # instanciate customer\n",
    "    cust = Customer(name, state, P, budget)\n",
    "    print( f'{cust.name} has entered the supermarket. \\n\\n{cust.name} is at the {cust.state} section.')\n",
    "\n",
    "    # keep track of flow\n",
    "    state_list = [state]\n",
    "    \n",
    "\n",
    "    while cust.state != 'checkout':    \n",
    "        # update state\n",
    "        state = cust.next_state()\n",
    "        # keep track of movement in a list\n",
    "        state_list.append(state)\n",
    "        time = 5*len(state_list)\n",
    "        section_num = len(set(state_list))\n",
    "        total_sections = set(state_list)\n",
    "        # instanciate customer\n",
    "        cust = Customer(name, state, P, budget)\n",
    "        # print customer movement\n",
    "        if state_list[-1] == state_list[-2]:\n",
    "            print( f'{cust.name} is still at the {cust.state} section.')\n",
    "        elif cust.state in state_list[:-1]:\n",
    "            print( f'{cust.name} is at the {cust.state} section again.')\n",
    "        else:\n",
    "            print( f'{cust.name} is at the {cust.state} section.')\n",
    "    else:\n",
    "        print( f'\\n{cust.name} has left the supermarket.\\n\\n{cust.name} spent {time} minutes in {section_num} sections.\\n{total_sections}')\n",
    "        print(f'\\nCustomer journey: \\n{state_list}')\n",
    "        print('\\n')"
   ]
  },
  {
   "cell_type": "markdown",
   "id": "9da8b9ed",
   "metadata": {},
   "source": [
    "#### Can I refine the Customer class?\n",
    "\n",
    "Will I be able to replicate what I did above without calling in parameters?"
   ]
  },
  {
   "cell_type": "code",
   "execution_count": 154,
   "id": "7e758e3c",
   "metadata": {
    "collapsed": true
   },
   "outputs": [
    {
     "name": "stdout",
     "output_type": "stream",
     "text": [
      "<Lisa is shopping in fruit>\n"
     ]
    },
    {
     "ename": "IndexError",
     "evalue": "index 0 is out of bounds for axis 0 with size 0",
     "output_type": "error",
     "traceback": [
      "\u001b[0;31m---------------------------------------------------------------------------\u001b[0m",
      "\u001b[0;31mIndexError\u001b[0m                                Traceback (most recent call last)",
      "\u001b[0;32m/var/folders/63/lr5fnnb174nbghmwhcqkd5b40000gn/T/ipykernel_43001/986175501.py\u001b[0m in \u001b[0;36m<module>\u001b[0;34m\u001b[0m\n\u001b[1;32m     39\u001b[0m     \u001b[0mactive\u001b[0m \u001b[0;34m=\u001b[0m \u001b[0;32mTrue\u001b[0m\u001b[0;34m\u001b[0m\u001b[0;34m\u001b[0m\u001b[0m\n\u001b[1;32m     40\u001b[0m     \u001b[0;32mwhile\u001b[0m \u001b[0mactive\u001b[0m\u001b[0;34m:\u001b[0m\u001b[0;34m\u001b[0m\u001b[0;34m\u001b[0m\u001b[0m\n\u001b[0;32m---> 41\u001b[0;31m         \u001b[0minstance\u001b[0m\u001b[0;34m.\u001b[0m\u001b[0mnext_state\u001b[0m\u001b[0;34m(\u001b[0m\u001b[0;34m)\u001b[0m\u001b[0;34m\u001b[0m\u001b[0;34m\u001b[0m\u001b[0m\n\u001b[0m\u001b[1;32m     42\u001b[0m         \u001b[0mprint\u001b[0m\u001b[0;34m(\u001b[0m\u001b[0;34m)\u001b[0m\u001b[0;34m\u001b[0m\u001b[0;34m\u001b[0m\u001b[0m\n\u001b[1;32m     43\u001b[0m         \u001b[0mactive\u001b[0m \u001b[0;34m=\u001b[0m \u001b[0minstance\u001b[0m\u001b[0;34m.\u001b[0m\u001b[0mis_active\u001b[0m\u001b[0;34m\u001b[0m\u001b[0;34m\u001b[0m\u001b[0m\n",
      "\u001b[0;32m/var/folders/63/lr5fnnb174nbghmwhcqkd5b40000gn/T/ipykernel_43001/986175501.py\u001b[0m in \u001b[0;36mnext_state\u001b[0;34m(self)\u001b[0m\n\u001b[1;32m     21\u001b[0m         '''\n\u001b[1;32m     22\u001b[0m         \u001b[0mself\u001b[0m\u001b[0;34m.\u001b[0m\u001b[0mstate\u001b[0m \u001b[0;34m=\u001b[0m \u001b[0;32mNone\u001b[0m\u001b[0;34m\u001b[0m\u001b[0;34m\u001b[0m\u001b[0m\n\u001b[0;32m---> 23\u001b[0;31m         \u001b[0mnext_section\u001b[0m \u001b[0;34m=\u001b[0m \u001b[0mchoices\u001b[0m\u001b[0;34m(\u001b[0m\u001b[0msections\u001b[0m\u001b[0;34m,\u001b[0m \u001b[0mweights\u001b[0m \u001b[0;34m=\u001b[0m \u001b[0mP\u001b[0m\u001b[0;34m[\u001b[0m\u001b[0mP\u001b[0m\u001b[0;34m.\u001b[0m\u001b[0mindex\u001b[0m \u001b[0;34m==\u001b[0m \u001b[0mself\u001b[0m\u001b[0;34m.\u001b[0m\u001b[0mstate\u001b[0m\u001b[0;34m]\u001b[0m\u001b[0;34m.\u001b[0m\u001b[0mvalues\u001b[0m\u001b[0;34m[\u001b[0m\u001b[0;36m0\u001b[0m\u001b[0;34m]\u001b[0m\u001b[0;34m)\u001b[0m\u001b[0;34m\u001b[0m\u001b[0;34m\u001b[0m\u001b[0m\n\u001b[0m\u001b[1;32m     24\u001b[0m         \u001b[0;32mreturn\u001b[0m \u001b[0mnext_section\u001b[0m\u001b[0;34m[\u001b[0m\u001b[0;36m0\u001b[0m\u001b[0;34m]\u001b[0m\u001b[0;34m\u001b[0m\u001b[0;34m\u001b[0m\u001b[0m\n\u001b[1;32m     25\u001b[0m \u001b[0;34m\u001b[0m\u001b[0m\n",
      "\u001b[0;31mIndexError\u001b[0m: index 0 is out of bounds for axis 0 with size 0"
     ]
    }
   ],
   "source": [
    "class Customer2:\n",
    "    \"\"\"\n",
    "    a single customer that moves through the supermarket\n",
    "    in a MCMC simulation\n",
    "    \"\"\"\n",
    "\n",
    "    def __init__(self):\n",
    "        self.name = fake.first_name()\n",
    "        self.state = choices(init_section, weights=init_section_w)[0]\n",
    "        self.budget = randint(1,1000)\n",
    "        self.transition_probs = P\n",
    "        self.id = id\n",
    "    \n",
    "    def __repr__(self):\n",
    "        return f'<{self.name} is shopping in {self.state}>'\n",
    "    \n",
    "    def next_state(self):\n",
    "        '''\n",
    "        Propagates the customer to the next state. \n",
    "        Returns predicted next_state.\n",
    "        '''\n",
    "        self.state = None\n",
    "        next_section = choices(sections, weights = P[P.index == self.state].values[0])\n",
    "        return next_section[0]\n",
    "\n",
    "    def is_active(self):\n",
    "        '''\n",
    "        Returns True if the customer has not \n",
    "        reached the checkout yet.\n",
    "        '''\n",
    "        if self.state != 'checkout':\n",
    "            return True\n",
    "\n",
    "if __name__ == \"__main__\":\n",
    "    instance = Customer2()\n",
    "    print(instance)\n",
    "    \n",
    "    #Move customer to next state\n",
    "    active = True\n",
    "    while active:\n",
    "        instance.next_state()\n",
    "        print()\n",
    "        active = instance.is_active"
   ]
  },
  {
   "cell_type": "code",
   "execution_count": 147,
   "id": "2e0539b0",
   "metadata": {},
   "outputs": [],
   "source": [
    "cust1 = Customer2()"
   ]
  },
  {
   "cell_type": "code",
   "execution_count": 148,
   "id": "b5b5a379",
   "metadata": {},
   "outputs": [
    {
     "data": {
      "text/plain": [
       "'drinks'"
      ]
     },
     "execution_count": 148,
     "metadata": {},
     "output_type": "execute_result"
    }
   ],
   "source": [
    "cust1.next_state()"
   ]
  },
  {
   "cell_type": "markdown",
   "id": "11fbb85e",
   "metadata": {},
   "source": [
    "#### Create Supermarket class to simulate a population"
   ]
  },
  {
   "cell_type": "code",
   "execution_count": 135,
   "id": "7d944132",
   "metadata": {},
   "outputs": [],
   "source": [
    "class Supermarket(Customer2):\n",
    "    \"\"\"\n",
    "    manages multiple Customer instances that are currently \n",
    "    in the market.\n",
    "    \"\"\"\n",
    "    \n",
    "    def __init__(self):        \n",
    "        super().__init__()\n",
    "        self.customers = []\n",
    "        self.minutes = 0\n",
    "        self.last_id = 0\n",
    "\n",
    "    def __repr__(self):\n",
    "        return f\" The supermarket has {len(self.customers)} at {self.get_time()}.\"\n",
    "\n",
    "    def get_time(self):\n",
    "        \"\"\"current time in HH:MM format,\n",
    "        \"\"\"\n",
    "        #now = datetime.now()\n",
    "        #current_time = now.strftime(\"%H:%M\")\n",
    "        HH = self.minutes // 60\n",
    "        MM = self.minute % 60\n",
    "        self.time = '{HH:02d}:{MM:02d}:00'\n",
    "        return self.time\n",
    "\n",
    "    def print_customers(self):\n",
    "        \"\"\"print all customers with the current time and id in CSV format.\n",
    "        \"\"\"\n",
    "        return None\n",
    "\n",
    "    def next_minute(self):\n",
    "        \"\"\"increase the time of the supermarket by one minute.\n",
    "           propagates all customers to the next state.\n",
    "        \"\"\"\n",
    "        self.minutes+=1\n",
    "        # determine state for every customer\n",
    "        for customer in self.customers:\n",
    "            self.state = self.next_state()\n",
    "    \n",
    "    def add_new_customers(self):\n",
    "        \"\"\"randomly creates new customers.\n",
    "           place them in their initial location\n",
    "        \"\"\"\n",
    "        assert isinstance(self, Customer), \"Only Customers here.\"\n",
    "        self.last_id+=1\n",
    "        self.customers+=self\n",
    "\n",
    "    def remove_exiting_customers(self):\n",
    "        \"\"\"removes every customer that is not active any more.\n",
    "        \"\"\"\n",
    "        if customer.is_active != True:\n",
    "            self.customers.pop({self.name})\n",
    "            print(f'Thank you for shopping with us, {self.name}!')\n",
    "\n",
    "if __name__ == \"__main__\":\n",
    "    supermarket = Supermarket()\n",
    "    print(supermarket)"
   ]
  },
  {
   "cell_type": "code",
   "execution_count": 149,
   "id": "9accfe49",
   "metadata": {},
   "outputs": [
    {
     "data": {
      "text/plain": [
       "<Lauren is shopping in fruit>"
      ]
     },
     "execution_count": 149,
     "metadata": {},
     "output_type": "execute_result"
    }
   ],
   "source": [
    "abc = Customer2()\n",
    "abc"
   ]
  },
  {
   "cell_type": "code",
   "execution_count": 150,
   "id": "cf8e97c7",
   "metadata": {
    "scrolled": true
   },
   "outputs": [],
   "source": [
    "abc = Supermarket()"
   ]
  },
  {
   "cell_type": "code",
   "execution_count": 151,
   "id": "1c14dd8a",
   "metadata": {},
   "outputs": [
    {
     "data": {
      "text/plain": [
       "[]"
      ]
     },
     "execution_count": 151,
     "metadata": {},
     "output_type": "execute_result"
    }
   ],
   "source": [
    "abc.add_new_customers\n",
    "abc.customers"
   ]
  },
  {
   "cell_type": "markdown",
   "id": "cea47c10",
   "metadata": {},
   "source": [
    "Our sales department is interested in a summary of the collected data. Please generate a report including numbers and diagrams. Note that your audience are not data scientists, so take care to prepare insights that are as clear as possible. We are interested in the following:\n",
    "\n",
    "Calculate the total number of customers in each section\n",
    "\n",
    "Calculate the total number of customers in each section over time\n",
    "\n",
    "Display the number of customers at checkout over time\n",
    "\n",
    "Calculate the time each customer spent in the market\n",
    "\n",
    "Calculate the total number of customers in the supermarket over time.\n",
    "\n",
    "Our business managers think that the first section customers visit follows a different pattern than the following ones. Plot the distribution of customers of their first visited section versus following sections (treat all sections visited after the first as “following”)."
   ]
  },
  {
   "cell_type": "markdown",
   "id": "9b234a79",
   "metadata": {},
   "source": [
    "#### Calculate the total number of customers in each section."
   ]
  },
  {
   "cell_type": "code",
   "execution_count": null,
   "id": "096f2b1e",
   "metadata": {
    "scrolled": true
   },
   "outputs": [],
   "source": [
    "#Calculate the total number of customers in each section\n",
    "df.loc"
   ]
  },
  {
   "cell_type": "code",
   "execution_count": null,
   "id": "3c340fbe",
   "metadata": {},
   "outputs": [],
   "source": [
    "df.groupby('location')['customerID'].count()"
   ]
  },
  {
   "cell_type": "code",
   "execution_count": null,
   "id": "5d7e0e06",
   "metadata": {},
   "outputs": [],
   "source": [
    "df.head()"
   ]
  },
  {
   "cell_type": "code",
   "execution_count": null,
   "id": "77d1ec87",
   "metadata": {
    "scrolled": false
   },
   "outputs": [],
   "source": [
    "#Calculate the total number of customers in each section over time\n",
    "\n",
    "# --- number of customers in each section for each hour in a day\n",
    "#df['hour'] = pd.to_datetime(df['timestamp']).dt.hour\n",
    "#df['day'] = pd.to_datetime(df['timestamp']).dt.day\n",
    "#df['dayname'] = pd.to_datetime(df['timestamp']).dt.day_name()\n",
    "\n",
    "'''grp = df.groupby(['dayname', 'hour'])\n",
    "for name, group in grp:\n",
    "    print(name)\n",
    "    print(group.count())'''\n",
    "df[df['dayname'] == 'Monday'].groupby('hour')['customerID'].count().plot.bar()\n",
    "df[df['dayname'] == 'Tuesday'].groupby('hour')['customerID'].count().plot.bar()\n",
    "df[df['dayname'] == 'Wednesday'].groupby('hour')['customerID'].count().plot.bar()\n",
    "df[df['dayname'] == 'Thursday'].groupby('hour')['customerID'].count().plot.bar()\n",
    "df[df['dayname'] == 'Friday'].groupby('hour')['customerID'].count().plot.bar()"
   ]
  },
  {
   "cell_type": "code",
   "execution_count": null,
   "id": "f2c63aef",
   "metadata": {
    "scrolled": true
   },
   "outputs": [],
   "source": [
    "#Display the number of customers at checkout over time\n",
    "\n",
    "df[df['location'] == 'checkout'].groupby('hour')['customerID'].count().plot.bar()"
   ]
  },
  {
   "cell_type": "code",
   "execution_count": null,
   "id": "2aa9d849",
   "metadata": {},
   "outputs": [],
   "source": [
    "#Calculate the time each customer spent in the market\n"
   ]
  },
  {
   "cell_type": "code",
   "execution_count": null,
   "id": "b5b1dd0f",
   "metadata": {},
   "outputs": [],
   "source": [
    "lol = [[1, 2, 3], [4, 5, 6], [7, 8, 9], [10, 11, 12]]\n",
    "\n",
    "def function(list_of_list):\n",
    "    l_copy = [[i + 1 for i in x] for x in list_of_list]\n",
    "    return l_copy\n",
    "\n",
    "function(lol)"
   ]
  },
  {
   "cell_type": "code",
   "execution_count": null,
   "id": "36ebb083",
   "metadata": {},
   "outputs": [],
   "source": [
    "# - the general idea that i am trying to do but doesn't work\n",
    "for customer in df['customerID']:\n",
    "    if df['time'] == df['time'].min():\n",
    "        df['order'] = 'first'\n",
    "    elif df['location'] == 'checkout':\n",
    "        df['order'] = 'checkout'\n",
    "    else:\n",
    "        df['order'] = 'next'"
   ]
  },
  {
   "cell_type": "code",
   "execution_count": null,
   "id": "33eaf197",
   "metadata": {},
   "outputs": [],
   "source": [
    "# - something about key: value\n",
    "# - df1['prices_match'] = np.where(df1['price_1'] == df2['price_2'], 'True', 'False') #create a new column in df1 to check if prices match\n",
    "\n",
    "for customer in df['customerID'].unique():\n",
    "    #create a new column in df \n",
    "    #fill in with 'first' if match\n",
    "    df['order'] = np.where((df['customerID'] == start.index & df['time'] == start['time']), 'first')"
   ]
  },
  {
   "cell_type": "code",
   "execution_count": null,
   "id": "46944358",
   "metadata": {},
   "outputs": [],
   "source": [
    "start = df.reset_index().groupby(['customerID'])['time'].min()"
   ]
  },
  {
   "cell_type": "code",
   "execution_count": null,
   "id": "86b9b899",
   "metadata": {
    "scrolled": true
   },
   "outputs": [],
   "source": [
    "s = pd.DataFrame(start)\n",
    "s.head()"
   ]
  },
  {
   "cell_type": "code",
   "execution_count": null,
   "id": "ea704b3d",
   "metadata": {},
   "outputs": [],
   "source": [
    "teststart = df.loc[df['time'].isin(s['time'])]\n",
    "teststart"
   ]
  },
  {
   "cell_type": "code",
   "execution_count": null,
   "id": "c7f64a3e",
   "metadata": {},
   "outputs": [],
   "source": [
    "checkout = df.loc[df['location'] == 'checkout']\n",
    "checkout"
   ]
  },
  {
   "cell_type": "markdown",
   "id": "1c6f0f37",
   "metadata": {},
   "source": [
    "I learnt how to add a new column using the .loc[] method. \n",
    "\n",
    "df.loc[:,'New_Column'] = 'value' - You can use '.loc' with ':' to add  a specified value for all rows. \n",
    "\n",
    "https://re-thought.com/how-to-add-new-columns-in-a-dataframe-in-pandas/"
   ]
  },
  {
   "cell_type": "code",
   "execution_count": null,
   "id": "bbe26fa5",
   "metadata": {},
   "outputs": [],
   "source": [
    "#setting 'first' in simultaneously created column, ['l_order']\n",
    "for customer in df['customerID'].unique():\n",
    "    df.loc[(df['time'].isin(s['time'])), 'l_order'] = 'first'\n",
    "\n",
    "#setting 'checkout' in ['l_order']\n",
    "for customer in df['customerID'].unique():\n",
    "    df.loc[(df['location'] == 'checkout'), 'l_order'] = 'checkout'\n"
   ]
  },
  {
   "cell_type": "code",
   "execution_count": null,
   "id": "eb7d29c9",
   "metadata": {},
   "outputs": [],
   "source": [
    "df['2019-09-06 21:00:00':'2019-09-06 22:00:00']"
   ]
  },
  {
   "cell_type": "code",
   "execution_count": null,
   "id": "4021a3db",
   "metadata": {
    "scrolled": true
   },
   "outputs": [],
   "source": [
    "df.groupby(['customerID']).head()"
   ]
  },
  {
   "cell_type": "markdown",
   "id": "4c95b456",
   "metadata": {},
   "source": [
    "#### Create function to simulate full pathway in supermarket from start to end"
   ]
  },
  {
   "cell_type": "code",
   "execution_count": null,
   "id": "bca006fd",
   "metadata": {},
   "outputs": [],
   "source": []
  },
  {
   "cell_type": "code",
   "execution_count": null,
   "id": "81aefe4d",
   "metadata": {},
   "outputs": [],
   "source": [
    "# create new customer\n",
    "# def the variables in Customer()\n",
    "name = fake.first_name()\n",
    "budget = randint(1,1000)\n",
    "init_state = choices(init_section, weights=init_section_w)[0]\n",
    "\n",
    "def customer_pathway(name, init_state):\n",
    "    '''Simulates customer journey in a supermarket.'''\n",
    "    # create list to keep track of states\n",
    "    state_list = [init_state]\n",
    "    state = init_state\n",
    "    \n",
    "    # create loop\n",
    "    while True:\n",
    "        state_list.append(state)                 # keep track of customer movement\n",
    "        Customer(name, state, P, budget)\n",
    "    \n",
    "        # print where cust comes out at\n",
    "        print( f'Customer {cust.name} in the {cust.state} section has {cust.budget} Larks.\\nCustomer {cust.name} will move to the {cust.next_state()} section next.\\n')   \n",
    "\n",
    "        # update the state\n",
    "        state = cust.next_state()\n",
    "\n",
    "        # break the loop\n",
    "        if cust.state == 'checkout':\n",
    "            print( f'Customer {cust.name} in the {cust.state} section has {cust.budget} Larks.')   \n",
    "            print(state_list)\n",
    "            break"
   ]
  }
 ],
 "metadata": {
  "kernelspec": {
   "display_name": "Python 3 (ipykernel)",
   "language": "python",
   "name": "python3"
  },
  "language_info": {
   "codemirror_mode": {
    "name": "ipython",
    "version": 3
   },
   "file_extension": ".py",
   "mimetype": "text/x-python",
   "name": "python",
   "nbconvert_exporter": "python",
   "pygments_lexer": "ipython3",
   "version": "3.9.7"
  }
 },
 "nbformat": 4,
 "nbformat_minor": 5
}
